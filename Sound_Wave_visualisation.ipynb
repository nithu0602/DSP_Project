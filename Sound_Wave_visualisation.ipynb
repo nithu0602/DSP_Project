{
  "nbformat": 4,
  "nbformat_minor": 0,
  "metadata": {
    "colab": {
      "name": "Sound Wave visualisation",
      "provenance": [],
      "authorship_tag": "ABX9TyMyNSpAzZxnrxwsy/lwCCJn",
      "include_colab_link": true
    },
    "kernelspec": {
      "name": "python3",
      "display_name": "Python 3"
    },
    "language_info": {
      "name": "python"
    }
  },
  "cells": [
    {
      "cell_type": "markdown",
      "metadata": {
        "id": "view-in-github",
        "colab_type": "text"
      },
      "source": [
        "<a href=\"https://colab.research.google.com/github/nithu0602/DSP_Project/blob/main/Sound_Wave_visualisation.ipynb\" target=\"_parent\"><img src=\"https://colab.research.google.com/assets/colab-badge.svg\" alt=\"Open In Colab\"/></a>"
      ]
    },
    {
      "cell_type": "markdown",
      "source": [
        "Installing pydub"
      ],
      "metadata": {
        "id": "uB9o3eMOtHsd"
      }
    },
    {
      "cell_type": "code",
      "source": [
        "pip install pydub"
      ],
      "metadata": {
        "id": "oEeZKcbepw-V"
      },
      "execution_count": null,
      "outputs": []
    },
    {
      "cell_type": "markdown",
      "source": [
        "Converting mp3 to wav file for cat"
      ],
      "metadata": {
        "id": "6P7OMA5xtMbI"
      }
    },
    {
      "cell_type": "code",
      "source": [
        "from pydub import AudioSegment\n",
        "\n",
        "cat_src='/content/cat.mp3'\n",
        "cat_dst='/content/cat.wav'\n",
        "cat_snd= AudioSegment.from_mp3(cat_src)\n",
        "cat_snd.export(cat_dst,format='wav')"
      ],
      "metadata": {
        "colab": {
          "base_uri": "https://localhost:8080/"
        },
        "id": "aSDBLd_yqGep",
        "outputId": "55dd11f7-b06c-4ff6-9625-fdfb736082b6"
      },
      "execution_count": null,
      "outputs": [
        {
          "output_type": "execute_result",
          "data": {
            "text/plain": [
              "<_io.BufferedRandom name='/content/cat.wav'>"
            ]
          },
          "metadata": {},
          "execution_count": 10
        }
      ]
    },
    {
      "cell_type": "markdown",
      "source": [
        "Converting stereo to mono"
      ],
      "metadata": {
        "id": "PV8xgwwGtTji"
      }
    },
    {
      "cell_type": "code",
      "source": [
        "cat_sound = AudioSegment.from_wav(\"cat.wav\")\n",
        "cat_sound = cat_sound.set_channels(1)\n",
        "cat_sound.export(\"/content/mono_cat.wav\", format=\"wav\")\n",
        "\n",
        "                            "
      ],
      "metadata": {
        "id": "C8iDvjw3qN8J"
      },
      "execution_count": null,
      "outputs": []
    },
    {
      "cell_type": "markdown",
      "source": [
        "Libraries to plot the wave"
      ],
      "metadata": {
        "id": "hh5_0U9itZcW"
      }
    },
    {
      "cell_type": "code",
      "source": [
        "import numpy as np\n",
        "import matplotlib.pyplot as plt\n",
        "import wave"
      ],
      "metadata": {
        "id": "OjhUDSf5rvD6"
      },
      "execution_count": null,
      "outputs": []
    },
    {
      "cell_type": "markdown",
      "source": [
        "Reading the wave file and obtaining parameters"
      ],
      "metadata": {
        "id": "XqZbJv8DtckG"
      }
    },
    {
      "cell_type": "code",
      "source": [
        "cat1=wave.open('mono_cat.wav','rb')\n",
        "print('Parameters:', cat1.getparams())\n"
      ],
      "metadata": {
        "colab": {
          "base_uri": "https://localhost:8080/"
        },
        "id": "vj48MuHFr1Az",
        "outputId": "22816a14-1184-492e-c1ba-23aa6db7c23d"
      },
      "execution_count": null,
      "outputs": [
        {
          "output_type": "stream",
          "name": "stdout",
          "text": [
            "Parameters: _wave_params(nchannels=1, sampwidth=2, framerate=44100, nframes=404480, comptype='NONE', compname='not compressed')\n"
          ]
        }
      ]
    },
    {
      "cell_type": "markdown",
      "source": [
        "Obtaining sample freq, amplitude, number of samples"
      ],
      "metadata": {
        "id": "EPfK7EQTtgwU"
      }
    },
    {
      "cell_type": "code",
      "source": [
        "sample_freq=cat1.getframerate()\n",
        "sample=cat1.getnframes()\n",
        "signal_wave = cat1.readframes(-1)\n",
        "\n"
      ],
      "metadata": {
        "id": "Z3El-I0FsKcf"
      },
      "execution_count": null,
      "outputs": []
    },
    {
      "cell_type": "markdown",
      "source": [
        "Converting signal wave (bytes) to array using np.frombuffer"
      ],
      "metadata": {
        "id": "yxXHL9TjtpOe"
      }
    },
    {
      "cell_type": "code",
      "source": [
        "dur=sample/sample_freq\n",
        "signal_array = np.frombuffer(signal_wave, dtype=np.int16)\n",
        "time=np.linspace(0,dur,sample)"
      ],
      "metadata": {
        "id": "WeklHdL_smWM"
      },
      "execution_count": null,
      "outputs": []
    },
    {
      "cell_type": "code",
      "source": [
        "plt.plot(time, signal_array)"
      ],
      "metadata": {
        "colab": {
          "base_uri": "https://localhost:8080/",
          "height": 282
        },
        "id": "PCJbLh81tBWr",
        "outputId": "b340f256-6d30-4468-88d9-33e0608e7434"
      },
      "execution_count": null,
      "outputs": [
        {
          "output_type": "execute_result",
          "data": {
            "text/plain": [
              "[<matplotlib.lines.Line2D at 0x7f3536ee7250>]"
            ]
          },
          "metadata": {},
          "execution_count": 26
        },
        {
          "output_type": "display_data",
          "data": {
            "text/plain": [
              "<Figure size 432x288 with 1 Axes>"
            ],
            "image/png": "[encoded data removed]"
          },
          "metadata": {
            "needs_background": "light"
          }
        }
      ]
    },
    {
      "cell_type": "markdown",
      "source": [
        "Converting dog sound to wav file"
      ],
      "metadata": {
        "id": "JRm4SLtPt1jy"
      }
    },
    {
      "cell_type": "code",
      "source": [
        "dog_src='/content/dog.mp3'\n",
        "dog_dst='/content/dog.wav'\n",
        "\n",
        "dog_snd=AudioSegment.from_mp3(dog_src)\n",
        "dog_snd.export(dog_dst,format='wav')"
      ],
      "metadata": {
        "id": "Xx8rdKJut8EP"
      },
      "execution_count": null,
      "outputs": []
    },
    {
      "cell_type": "code",
      "source": [
        "dog_sound=AudioSegment.from_wav('dog.wav')\n",
        "dog_sound=dog_sound.set_channels(1)\n",
        "dog_sound.export('/content/mono_dog.wav', format='wav')"
      ],
      "metadata": {
        "colab": {
          "base_uri": "https://localhost:8080/"
        },
        "id": "x_Z_7Rcdt8RG",
        "outputId": "2ec243d3-7265-4e8e-aa22-4242206e926f"
      },
      "execution_count": null,
      "outputs": [
        {
          "output_type": "execute_result",
          "data": {
            "text/plain": [
              "<_io.BufferedRandom name='/content/mono_dog.wav'>"
            ]
          },
          "metadata": {},
          "execution_count": 28
        }
      ]
    },
    {
      "cell_type": "code",
      "source": [
        "dog1 = wave.open('mono_dog.wav', 'rb')\n",
        "print('Parameters:', dog1.getparams())\n"
      ],
      "metadata": {
        "colab": {
          "base_uri": "https://localhost:8080/"
        },
        "id": "RfmUVcI-t8UW",
        "outputId": "48cbdf5c-f63c-4274-9fbf-7b3ba982cf33"
      },
      "execution_count": null,
      "outputs": [
        {
          "output_type": "stream",
          "name": "stdout",
          "text": [
            "Parameters: _wave_params(nchannels=1, sampwidth=2, framerate=44100, nframes=596992, comptype='NONE', compname='not compressed')\n"
          ]
        }
      ]
    },
    {
      "cell_type": "code",
      "source": [
        "sample_freq2 = dog1.getframerate()\n",
        "n_samples = dog1.getnframes()\n",
        "signal_wave2 = dog1.readframes(-1)\n",
        "duration = n_samples/sample_freq2\n",
        "\n"
      ],
      "metadata": {
        "id": "nW_hDWx4xeXo"
      },
      "execution_count": null,
      "outputs": []
    },
    {
      "cell_type": "code",
      "source": [
        "signal_array2 = np.frombuffer(signal_wave2, dtype=np.int16)\n",
        "t2=np.linspace(0, duration, num=n_samples)\n",
        "plt.plot(t2,signal_array2)"
      ],
      "metadata": {
        "colab": {
          "base_uri": "https://localhost:8080/",
          "height": 282
        },
        "id": "ziseEsGRyCUP",
        "outputId": "e7368fee-f7ee-471e-a57d-4946ace4c01f"
      },
      "execution_count": null,
      "outputs": [
        {
          "output_type": "execute_result",
          "data": {
            "text/plain": [
              "[<matplotlib.lines.Line2D at 0x7f3535b006d0>]"
            ]
          },
          "metadata": {},
          "execution_count": 66
        },
        {
          "output_type": "display_data",
          "data": {
            "text/plain": [
              "<Figure size 432x288 with 1 Axes>"
            ],
            "image/png": "[encoded data removed]"
          },
          "metadata": {
            "needs_background": "light"
          }
        }
      ]
    }
  ]
}