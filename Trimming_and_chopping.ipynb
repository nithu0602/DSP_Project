{
  "nbformat": 4,
  "nbformat_minor": 0,
  "metadata": {
    "colab": {
      "name": "Trimming and chopping",
      "provenance": [],
      "collapsed_sections": [],
      "authorship_tag": "ABX9TyNZ7iFbPF5OSWZ84vWpVSAq",
      "include_colab_link": true
    },
    "kernelspec": {
      "name": "python3",
      "display_name": "Python 3"
    },
    "language_info": {
      "name": "python"
    }
  },
  "cells": [
    {
      "cell_type": "markdown",
      "metadata": {
        "id": "view-in-github",
        "colab_type": "text"
      },
      "source": [
        "<a href=\"https://colab.research.google.com/github/nithu0602/DSP_Project/blob/main/Trimming_and_chopping.ipynb\" target=\"_parent\"><img src=\"https://colab.research.google.com/assets/colab-badge.svg\" alt=\"Open In Colab\"/></a>"
      ]
    },
    {
      "cell_type": "code",
      "execution_count": 2,
      "metadata": {
        "id": "QSzTdOtWzXh4",
        "colab": {
          "base_uri": "https://localhost:8080/"
        },
        "outputId": "e404dff4-d921-4795-83f9-d10969686e4f"
      },
      "outputs": [
        {
          "output_type": "stream",
          "name": "stdout",
          "text": [
            "Looking in indexes: https://pypi.org/simple, https://us-python.pkg.dev/colab-wheels/public/simple/\n",
            "Collecting pydub\n",
            "  Downloading pydub-0.25.1-py2.py3-none-any.whl (32 kB)\n",
            "Installing collected packages: pydub\n",
            "Successfully installed pydub-0.25.1\n"
          ]
        }
      ],
      "source": [
        "pip install pydub"
      ]
    },
    {
      "cell_type": "code",
      "source": [
        "from pydub import AudioSegment\n",
        "cat='/content/mono_cat.wav'\n",
        "dog='/content/mono_dog.wav'"
      ],
      "metadata": {
        "id": "956GKBNQ1Sis"
      },
      "execution_count": 4,
      "outputs": []
    },
    {
      "cell_type": "code",
      "source": [
        "cat1=AudioSegment.from_wav('mono_cat.wav')\n",
        "dog1=AudioSegment.from_wav('mono_dog.wav')"
      ],
      "metadata": {
        "id": "pQf4i1Rb1iU7"
      },
      "execution_count": 5,
      "outputs": []
    },
    {
      "cell_type": "code",
      "source": [
        "cat_trim=cat1[0:5000]\n",
        "dog_trim=dog1[0:5000]"
      ],
      "metadata": {
        "id": "7QQphdIH1xIv"
      },
      "execution_count": 6,
      "outputs": []
    },
    {
      "cell_type": "code",
      "source": [
        "cat_trim.export('/content/trim_cat.wav',format='wav')\n",
        "dog_trim.export('/content/trim_dog.wav',format='wav')\n"
      ],
      "metadata": {
        "id": "D476_1NL2ofq"
      },
      "execution_count": null,
      "outputs": []
    },
    {
      "cell_type": "code",
      "source": [
        "import wave\n",
        "c1=wave.open('trim_cat.wav','rb')\n",
        "d1=wave.open('trim_dog.wav','rb')"
      ],
      "metadata": {
        "id": "KpcOPSRf262A"
      },
      "execution_count": 9,
      "outputs": []
    },
    {
      "cell_type": "code",
      "source": [
        "print(c1.getparams())\n",
        "print(d1.getparams())"
      ],
      "metadata": {
        "colab": {
          "base_uri": "https://localhost:8080/"
        },
        "id": "yYKNGjeH3VPu",
        "outputId": "e933c709-3f7b-45e1-a3f0-42dfdc558428"
      },
      "execution_count": 11,
      "outputs": [
        {
          "output_type": "stream",
          "name": "stdout",
          "text": [
            "_wave_params(nchannels=1, sampwidth=2, framerate=44100, nframes=220500, comptype='NONE', compname='not compressed')\n",
            "_wave_params(nchannels=1, sampwidth=2, framerate=44100, nframes=220500, comptype='NONE', compname='not compressed')\n"
          ]
        }
      ]
    },
    {
      "cell_type": "code",
      "source": [
        "dur_cat=c1.getnframes()/c1.getframerate()\n",
        "dur_cat"
      ],
      "metadata": {
        "colab": {
          "base_uri": "https://localhost:8080/"
        },
        "id": "wz2BqvK43jDr",
        "outputId": "1bf71f97-6717-4a75-e369-0acd76727910"
      },
      "execution_count": 15,
      "outputs": [
        {
          "output_type": "execute_result",
          "data": {
            "text/plain": [
              "5.0"
            ]
          },
          "metadata": {},
          "execution_count": 15
        }
      ]
    },
    {
      "cell_type": "code",
      "source": [
        "dur_dog=d1.getnframes()/d1.getframerate()\n",
        "dur_dog"
      ],
      "metadata": {
        "colab": {
          "base_uri": "https://localhost:8080/"
        },
        "id": "TA2Zq08r31e-",
        "outputId": "299c5051-9a59-4fa1-c1ae-53a33b57af88"
      },
      "execution_count": 16,
      "outputs": [
        {
          "output_type": "execute_result",
          "data": {
            "text/plain": [
              "5.0"
            ]
          },
          "metadata": {},
          "execution_count": 16
        }
      ]
    }
  ]
}